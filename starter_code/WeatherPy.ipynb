{
 "cells": [
  {
   "cell_type": "markdown",
   "metadata": {},
   "source": [
    "# WeatherPy\n",
    "----\n",
    "\n",
    "#### Note\n",
    "* Instructions have been included for each segment. You do not have to follow them exactly, but they are included to help you think through the steps."
   ]
  },
  {
   "cell_type": "code",
   "execution_count": 1,
   "metadata": {},
   "outputs": [
    {
     "name": "stderr",
     "output_type": "stream",
     "text": [
      "Enabling notebook extension jupyter-js-widgets/extension...\n",
      "      - Validating: ok\n"
     ]
    },
    {
     "name": "stdout",
     "output_type": "stream",
     "text": [
      "Requirement already satisfied: citipy in c:\\users\\megam\\anaconda3\\envs\\pythondata\\lib\\site-packages (0.0.5)\n",
      "Requirement already satisfied: kdtree>=0.12 in c:\\users\\megam\\anaconda3\\envs\\pythondata\\lib\\site-packages (from citipy) (0.16)\n"
     ]
    },
    {
     "name": "stderr",
     "output_type": "stream",
     "text": [
      "Traceback (most recent call last):\n",
      "  File \"C:\\Users\\megam\\Anaconda3\\envs\\PythonData\\Scripts\\jupyter-nbextension-script.py\", line 10, in <module>\n",
      "    sys.exit(main())\n",
      "  File \"C:\\Users\\megam\\Anaconda3\\envs\\PythonData\\lib\\site-packages\\jupyter_core\\application.py\", line 267, in launch_instance\n",
      "    return super(JupyterApp, cls).launch_instance(argv=argv, **kwargs)\n",
      "  File \"C:\\Users\\megam\\Anaconda3\\envs\\PythonData\\lib\\site-packages\\traitlets\\config\\application.py\", line 658, in launch_instance\n",
      "    app.start()\n",
      "  File \"C:\\Users\\megam\\Anaconda3\\envs\\PythonData\\lib\\site-packages\\notebook\\nbextensions.py\", line 988, in start\n",
      "    super(NBExtensionApp, self).start()\n",
      "  File \"C:\\Users\\megam\\Anaconda3\\envs\\PythonData\\lib\\site-packages\\jupyter_core\\application.py\", line 256, in start\n",
      "    self.subapp.start()\n",
      "  File \"C:\\Users\\megam\\Anaconda3\\envs\\PythonData\\lib\\site-packages\\notebook\\nbextensions.py\", line 896, in start\n",
      "    self.toggle_nbextension_python(self.extra_args[0])\n",
      "  File \"C:\\Users\\megam\\Anaconda3\\envs\\PythonData\\lib\\site-packages\\notebook\\nbextensions.py\", line 872, in toggle_nbextension_python\n",
      "    logger=self.log)\n",
      "  File \"C:\\Users\\megam\\Anaconda3\\envs\\PythonData\\lib\\site-packages\\notebook\\nbextensions.py\", line 483, in enable_nbextension_python\n",
      "    logger=logger)\n",
      "  File \"C:\\Users\\megam\\Anaconda3\\envs\\PythonData\\lib\\site-packages\\notebook\\nbextensions.py\", line 380, in _set_nbextension_state_python\n",
      "    m, nbexts = _get_nbextension_metadata(module)\n",
      "  File \"C:\\Users\\megam\\Anaconda3\\envs\\PythonData\\lib\\site-packages\\notebook\\nbextensions.py\", line 1125, in _get_nbextension_metadata\n",
      "    'it is missing the `_jupyter_nbextension_paths()` method.'.format(module))\n",
      "KeyError: 'The Python module citipy is not a valid nbextension, it is missing the `_jupyter_nbextension_paths()` method.'\n"
     ]
    }
   ],
   "source": [
    "!jupyter nbextension enable --py --sys-prefix widgetsnbextension\n",
    "!pip install citipy\n",
    "!jupyter nbextension enable --py --sys-prefix citipy"
   ]
  },
  {
   "cell_type": "code",
   "execution_count": 32,
   "metadata": {
    "scrolled": true
   },
   "outputs": [],
   "source": [
    "# Dependencies and Setup\n",
    "import matplotlib.pyplot as plt\n",
    "import pandas as pd\n",
    "import numpy as np\n",
    "import requests\n",
    "import time\n",
    "import json\n",
    "\n",
    "# Import API key\n",
    "from api_keys import api_key\n",
    "\n",
    "# Incorporated citipy to determine city based on latitude and longitude\n",
    "from citipy import citipy\n",
    "\n",
    "# Output File (CSV)\n",
    "output_data_file = \"output_data/cities.csv\"\n",
    "\n",
    "\n",
    "# Range of latitudes and longitudes\n",
    "lat_range = (-90, 90)\n",
    "lng_range = (-180, 180)"
   ]
  },
  {
   "cell_type": "markdown",
   "metadata": {},
   "source": [
    "## Generate Cities List"
   ]
  },
  {
   "cell_type": "code",
   "execution_count": 17,
   "metadata": {},
   "outputs": [
    {
     "data": {
      "text/plain": [
       "615"
      ]
     },
     "execution_count": 17,
     "metadata": {},
     "output_type": "execute_result"
    }
   ],
   "source": [
    "# List for holding lat_lngs and cities\n",
    "lat_lngs = []\n",
    "cities = []\n",
    "\n",
    "# Create a set of random lat and lng combinations\n",
    "lats = np.random.uniform(low=-90.000, high=90.000, size=1500)\n",
    "lngs = np.random.uniform(low=-180.000, high=180.000, size=1500)\n",
    "lat_lngs = zip(lats, lngs)\n",
    "\n",
    "# Identify nearest city for each lat, lng combination\n",
    "for lat_lng in lat_lngs:\n",
    "    city = citipy.nearest_city(lat_lng[0], lat_lng[1]).city_name\n",
    "    \n",
    "    # If the city is unique, then add it to a our cities list\n",
    "    if city not in cities:\n",
    "        cities.append(city)\n",
    "\n",
    "# Print the city count to confirm sufficient count\n",
    "len(cities)"
   ]
  },
  {
   "cell_type": "markdown",
   "metadata": {},
   "source": [
    "### Perform API Calls\n",
    "* Perform a weather check on each city using a series of successive API calls.\n",
    "* Include a print log of each city as it'sbeing processed (with the city number and city name).\n"
   ]
  },
  {
   "cell_type": "code",
   "execution_count": 51,
   "metadata": {},
   "outputs": [
    {
     "name": "stdout",
     "output_type": "stream",
     "text": [
      "{\n",
      "    \"coord\": {\n",
      "        \"lon\": -134.97,\n",
      "        \"lat\": -23.12\n",
      "    },\n",
      "    \"weather\": [\n",
      "        {\n",
      "            \"id\": 800,\n",
      "            \"main\": \"Clear\",\n",
      "            \"description\": \"clear sky\",\n",
      "            \"icon\": \"01n\"\n",
      "        }\n",
      "    ],\n",
      "    \"base\": \"stations\",\n",
      "    \"main\": {\n",
      "        \"temp\": 294.868,\n",
      "        \"pressure\": 1021.24,\n",
      "        \"humidity\": 65,\n",
      "        \"temp_min\": 294.868,\n",
      "        \"temp_max\": 294.868,\n",
      "        \"sea_level\": 1021.24,\n",
      "        \"grnd_level\": 1021.15\n",
      "    },\n",
      "    \"wind\": {\n",
      "        \"speed\": 1.42,\n",
      "        \"deg\": 111.165\n",
      "    },\n",
      "    \"clouds\": {\n",
      "        \"all\": 0\n",
      "    },\n",
      "    \"dt\": 1569379309,\n",
      "    \"sys\": {\n",
      "        \"message\": 0.0073,\n",
      "        \"country\": \"PF\",\n",
      "        \"sunrise\": 1569336448,\n",
      "        \"sunset\": 1569380183\n",
      "    },\n",
      "    \"timezone\": -32400,\n",
      "    \"id\": 4030556,\n",
      "    \"name\": \"Rikitea\",\n",
      "    \"cod\": 200\n",
      "}\n"
     ]
    },
    {
     "ename": "NameError",
     "evalue": "name 'types_df' is not defined",
     "output_type": "error",
     "traceback": [
      "\u001b[1;31m---------------------------------------------------------------------------\u001b[0m",
      "\u001b[1;31mNameError\u001b[0m                                 Traceback (most recent call last)",
      "\u001b[1;32m<ipython-input-51-6e5913051d5e>\u001b[0m in \u001b[0;36m<module>\u001b[1;34m\u001b[0m\n\u001b[0;32m     13\u001b[0m \u001b[1;33m\u001b[0m\u001b[0m\n\u001b[0;32m     14\u001b[0m \u001b[1;31m# use iterrows to iterate through pandas dataframe\u001b[0m\u001b[1;33m\u001b[0m\u001b[1;33m\u001b[0m\u001b[1;33m\u001b[0m\u001b[0m\n\u001b[1;32m---> 15\u001b[1;33m \u001b[1;32mfor\u001b[0m \u001b[0mindex\u001b[0m\u001b[1;33m,\u001b[0m \u001b[0mrow\u001b[0m \u001b[1;32min\u001b[0m \u001b[0mtypes_df\u001b[0m\u001b[1;33m.\u001b[0m\u001b[0miterrows\u001b[0m\u001b[1;33m(\u001b[0m\u001b[1;33m)\u001b[0m\u001b[1;33m:\u001b[0m\u001b[1;33m\u001b[0m\u001b[1;33m\u001b[0m\u001b[0m\n\u001b[0m\u001b[0;32m     16\u001b[0m \u001b[1;33m\u001b[0m\u001b[0m\n\u001b[0;32m     17\u001b[0m     \u001b[1;31m# get restaurant type from df\u001b[0m\u001b[1;33m\u001b[0m\u001b[1;33m\u001b[0m\u001b[1;33m\u001b[0m\u001b[0m\n",
      "\u001b[1;31mNameError\u001b[0m: name 'types_df' is not defined"
     ]
    }
   ],
   "source": [
    "### Find out how to retrieve specific weather info FOR WEATHERMAPY\n",
    "base_url = \"http://api.openweathermap.org/data/2.5/weather\"\n",
    "params = {\n",
    "    \"q\": cities[0],\n",
    "    \"APPID\": api_key,\n",
    "}\n",
    "\n",
    "request = requests.get(base_url, params).json()\n",
    "\n",
    "print(json.dumps(request, indent=4))\n",
    "\n",
    "######\n",
    "\n",
    "# use iterrows to iterate through pandas dataframe\n",
    "for index, row in types_df.iterrows():\n",
    "    \n",
    "    # get restaurant type from df\n",
    "    restr_type = row['ethnicity']\n",
    "\n",
    "    # add keyword to params dict\n",
    "    params['keyword'] = restr_type\n",
    "\n",
    "    # assemble url and make API request\n",
    "    print(f\"Retrieving Results for Index {index}: {restr_type}.\")\n",
    "    response = requests.get(base_url, params=params).json()\n",
    "    \n",
    "    # extract results\n",
    "    results = response['results']\n",
    "    \n",
    "    try:\n",
    "        print(f\"Closest {restr_type} restaurant is {results[0]['name']}.\")\n",
    "        \n",
    "        types_df.loc[index, 'city'] = results['name']\n",
    "        types_df.loc[index, 'cloudiness'] = results['weather']['description']\n",
    "        types_df.loc[index, 'Country'] = results['sys']['country']\n",
    "        types_df.loc[index, 'Humidity'] = results['main']['humidity']\n",
    "        types_df.loc[index, 'Lat'] = results['coord']['lat']\n",
    "        types_df.loc[index, 'Lon'] = results['coord']['lon']\n",
    "        types_df.loc[index, 'Max Temp'] = results['main']['temp_max']\n",
    "        types_df.loc[index, 'Wind Speed'] = results['wind']['speed']\n",
    "        \n",
    "    except (KeyError, IndexError):\n",
    "        print(\"Missing field/result... skipping.\")\n",
    "        \n",
    "    print(\"------------\")\n"
   ]
  },
  {
   "cell_type": "code",
   "execution_count": 50,
   "metadata": {},
   "outputs": [
    {
     "name": "stdout",
     "output_type": "stream",
     "text": [
      "{\n",
      "    \"coord\": {\n",
      "        \"lon\": -134.97,\n",
      "        \"lat\": -23.12\n",
      "    },\n",
      "    \"weather\": [\n",
      "        {\n",
      "            \"id\": 800,\n",
      "            \"main\": \"Clear\",\n",
      "            \"description\": \"clear sky\",\n",
      "            \"icon\": \"01n\"\n",
      "        }\n",
      "    ],\n",
      "    \"base\": \"stations\",\n",
      "    \"main\": {\n",
      "        \"temp\": 294.868,\n",
      "        \"pressure\": 1021.24,\n",
      "        \"humidity\": 65,\n",
      "        \"temp_min\": 294.868,\n",
      "        \"temp_max\": 294.868,\n",
      "        \"sea_level\": 1021.24,\n",
      "        \"grnd_level\": 1021.15\n",
      "    },\n",
      "    \"wind\": {\n",
      "        \"speed\": 1.42,\n",
      "        \"deg\": 111.165\n",
      "    },\n",
      "    \"clouds\": {\n",
      "        \"all\": 0\n",
      "    },\n",
      "    \"dt\": 1569379309,\n",
      "    \"sys\": {\n",
      "        \"message\": 0.0073,\n",
      "        \"country\": \"PF\",\n",
      "        \"sunrise\": 1569336448,\n",
      "        \"sunset\": 1569380183\n",
      "    },\n",
      "    \"timezone\": -32400,\n",
      "    \"id\": 4030556,\n",
      "    \"name\": \"Rikitea\",\n",
      "    \"cod\": 200\n",
      "}\n"
     ]
    }
   ],
   "source": [
    "base_url = \"http://api.openweathermap.org/data/2.5/weather\"\n",
    "params = {\n",
    "    \"q\": cities[0],\n",
    "    \"APPID\": api_key,\n",
    "}\n",
    "\n",
    "request = requests.get(base_url, params).json()\n",
    "\n",
    "print(json.dumps(request, indent=4))"
   ]
  },
  {
   "cell_type": "markdown",
   "metadata": {},
   "source": [
    "### Convert Raw Data to DataFrame\n",
    "* Export the city data into a .csv.\n",
    "* Display the DataFrame"
   ]
  },
  {
   "cell_type": "code",
   "execution_count": null,
   "metadata": {},
   "outputs": [],
   "source": []
  },
  {
   "cell_type": "code",
   "execution_count": null,
   "metadata": {},
   "outputs": [],
   "source": []
  },
  {
   "cell_type": "markdown",
   "metadata": {},
   "source": [
    "### Plotting the Data\n",
    "* Use proper labeling of the plots using plot titles (including date of analysis) and axes labels.\n",
    "* Save the plotted figures as .pngs."
   ]
  },
  {
   "cell_type": "markdown",
   "metadata": {},
   "source": [
    "#### Latitude vs. Temperature Plot"
   ]
  },
  {
   "cell_type": "code",
   "execution_count": null,
   "metadata": {},
   "outputs": [],
   "source": []
  },
  {
   "cell_type": "markdown",
   "metadata": {},
   "source": [
    "#### Latitude vs. Humidity Plot"
   ]
  },
  {
   "cell_type": "code",
   "execution_count": null,
   "metadata": {},
   "outputs": [],
   "source": []
  },
  {
   "cell_type": "markdown",
   "metadata": {},
   "source": [
    "#### Latitude vs. Cloudiness Plot"
   ]
  },
  {
   "cell_type": "code",
   "execution_count": null,
   "metadata": {},
   "outputs": [],
   "source": []
  },
  {
   "cell_type": "markdown",
   "metadata": {},
   "source": [
    "#### Latitude vs. Wind Speed Plot"
   ]
  },
  {
   "cell_type": "code",
   "execution_count": null,
   "metadata": {},
   "outputs": [],
   "source": []
  },
  {
   "cell_type": "code",
   "execution_count": null,
   "metadata": {},
   "outputs": [],
   "source": []
  }
 ],
 "metadata": {
  "anaconda-cloud": {},
  "kernel_info": {
   "name": "python3"
  },
  "kernelspec": {
   "display_name": "Python 3",
   "language": "python",
   "name": "python3"
  },
  "language_info": {
   "codemirror_mode": {
    "name": "ipython",
    "version": 3
   },
   "file_extension": ".py",
   "mimetype": "text/x-python",
   "name": "python",
   "nbconvert_exporter": "python",
   "pygments_lexer": "ipython3",
   "version": "3.6.9"
  },
  "nteract": {
   "version": "0.12.3"
  }
 },
 "nbformat": 4,
 "nbformat_minor": 2
}
